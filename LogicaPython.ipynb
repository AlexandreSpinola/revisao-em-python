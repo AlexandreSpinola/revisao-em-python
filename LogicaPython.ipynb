{
  "nbformat": 4,
  "nbformat_minor": 0,
  "metadata": {
    "colab": {
      "provenance": [],
      "authorship_tag": "ABX9TyOoLznkmpLqR1ltky90b4Ii",
      "include_colab_link": true
    },
    "kernelspec": {
      "name": "python3",
      "display_name": "Python 3"
    },
    "language_info": {
      "name": "python"
    }
  },
  "cells": [
    {
      "cell_type": "markdown",
      "metadata": {
        "id": "view-in-github",
        "colab_type": "text"
      },
      "source": [
        "<a href=\"https://colab.research.google.com/github/AlexandreSpinola/revisao-em-python/blob/main/LogicaPython.ipynb\" target=\"_parent\"><img src=\"https://colab.research.google.com/assets/colab-badge.svg\" alt=\"Open In Colab\"/></a>"
      ]
    },
    {
      "cell_type": "markdown",
      "source": [
        "# Problema 1: Calculadora IMC"
      ],
      "metadata": {
        "id": "N1C9G3P-i_3M"
      }
    },
    {
      "cell_type": "code",
      "execution_count": null,
      "metadata": {
        "id": "1bWODfLWg99w"
      },
      "outputs": [],
      "source": [
        "'''\n",
        "Problema 1: Calculadora de IMC\n",
        "Crie um programa que calcule o Índice de Massa Corporal (IMC) de uma pessoa. O programa deve:\n",
        "\n",
        "Solicitar o peso (em kg) e a altura (em metros) do usuário.\n",
        "Informar o resultado do IMC e a classificação de acordo com a tabela:\n",
        "Menor que 18.5: Abaixo do peso\n",
        "Entre 18.5 e 24.9: Peso normal\n",
        "Entre 25 e 29.9: Sobrepeso\n",
        "Maior ou igual a 30: Obesidade\n",
        "\n",
        "'''"
      ]
    },
    {
      "cell_type": "code",
      "source": [
        "print(\"Peso: \")\n",
        "peso = int(input())\n",
        "print(\"Altura: \")\n",
        "altura = float(input())"
      ],
      "metadata": {
        "colab": {
          "base_uri": "https://localhost:8080/"
        },
        "id": "ywF2wDT8i-o8",
        "outputId": "deaa7a14-cdda-4005-eb8b-b6f0be17c8b0"
      },
      "execution_count": 6,
      "outputs": [
        {
          "name": "stdout",
          "output_type": "stream",
          "text": [
            "Peso: \n",
            "73\n",
            "Altura: \n",
            "1.73\n"
          ]
        }
      ]
    },
    {
      "cell_type": "code",
      "source": [
        "# Calculo do IMC\n",
        "IMC = peso / (altura ** 2)\n",
        "print(IMC)"
      ],
      "metadata": {
        "colab": {
          "base_uri": "https://localhost:8080/"
        },
        "id": "z0Wfxi9tjdX7",
        "outputId": "44e33cb5-5e07-423c-bb45-c0864d36d181"
      },
      "execution_count": 7,
      "outputs": [
        {
          "output_type": "stream",
          "name": "stdout",
          "text": [
            "24.3910588392529\n"
          ]
        }
      ]
    },
    {
      "cell_type": "code",
      "source": [
        "if(IMC< 18.5):\n",
        "    print(\"Voce esta abaixo do peso\")\n",
        "elif(IMC >=18.5 and IMC <=24.9):\n",
        "    print(\"Voce esta no peso normal\")\n",
        "elif(IMC >=25 and IMC <=29.9):\n",
        "    print(\"Voce esta com sobrepeso\")\n",
        "else:\n",
        "    print(\"Voce esta com obesidade\")"
      ],
      "metadata": {
        "colab": {
          "base_uri": "https://localhost:8080/"
        },
        "id": "OPzJIYw7kDvs",
        "outputId": "4619f365-bbf2-40b1-887c-7356418bee21"
      },
      "execution_count": 9,
      "outputs": [
        {
          "output_type": "stream",
          "name": "stdout",
          "text": [
            "Voce esta no peso normal\n"
          ]
        }
      ]
    },
    {
      "cell_type": "markdown",
      "source": [
        "# Problema 2: Sequência de números pares\n",
        "\n",
        "Crie um programa que solicite um número inteiro positivo e exiba todos os números pares de 0 até esse número."
      ],
      "metadata": {
        "id": "M96VrrMrlT8z"
      }
    },
    {
      "cell_type": "code",
      "source": [
        "n = int(input(\"Digite um numero inteiro positivo: \"))"
      ],
      "metadata": {
        "colab": {
          "base_uri": "https://localhost:8080/"
        },
        "id": "0wxumj3mlukS",
        "outputId": "a0ebfb62-5613-4568-a678-c0d1644b7822"
      },
      "execution_count": 10,
      "outputs": [
        {
          "name": "stdout",
          "output_type": "stream",
          "text": [
            "Digite um numero inteiro positivo: 15\n"
          ]
        }
      ]
    },
    {
      "cell_type": "code",
      "source": [
        "# Loop para imprimir números pares\n",
        "print(f\"Números pares de 0 até {n}:\")\n",
        "for i in range(0, n + 1):\n",
        "    if i % 2 == 0:\n",
        "        print(i, end=\" \")"
      ],
      "metadata": {
        "colab": {
          "base_uri": "https://localhost:8080/"
        },
        "id": "3twb_q29l3eZ",
        "outputId": "46716514-1cba-453d-f5e2-4627d9bbfe24"
      },
      "execution_count": 16,
      "outputs": [
        {
          "output_type": "stream",
          "name": "stdout",
          "text": [
            "Números pares de 0 até 17:\n",
            "0 2 4 6 8 10 12 14 16 "
          ]
        }
      ]
    },
    {
      "cell_type": "markdown",
      "source": [
        "# Problema 3: Verificador de números primos\n",
        "\n",
        "Escreva um programa que solicite um número inteiro positivo e informe se ele é primo ou não."
      ],
      "metadata": {
        "id": "qxZT3uwnnHxL"
      }
    },
    {
      "cell_type": "markdown",
      "source": [
        "## Solução simples"
      ],
      "metadata": {
        "id": "bUol4yJoD4CM"
      }
    },
    {
      "cell_type": "code",
      "source": [
        "n= int(input(\"Informe um número inteiro: \"))"
      ],
      "metadata": {
        "colab": {
          "base_uri": "https://localhost:8080/"
        },
        "id": "v04OTyDNnhbx",
        "outputId": "dab23908-e127-427d-d936-c6c0899b92f0"
      },
      "execution_count": 45,
      "outputs": [
        {
          "name": "stdout",
          "output_type": "stream",
          "text": [
            "Informe um número inteiro: 9\n"
          ]
        }
      ]
    },
    {
      "cell_type": "code",
      "source": [
        "boolean_primo = True\n",
        "i=2\n",
        "\n",
        "while boolean_primo and i <= n/2:\n",
        "  if(n%i == 0):\n",
        "    boolean_primo = False\n",
        "  i+=1\n",
        "\n",
        "if boolean_primo:\n",
        "  print(f\"O número {n} é primo\")\n",
        "else :\n",
        "  print(f\"O número {n} nao é primo\")"
      ],
      "metadata": {
        "colab": {
          "base_uri": "https://localhost:8080/"
        },
        "id": "-jlMUnZAn-7h",
        "outputId": "276a0d7e-a48c-4ce1-f111-32946daf29f7"
      },
      "execution_count": 44,
      "outputs": [
        {
          "output_type": "stream",
          "name": "stdout",
          "text": [
            "O número 9 nao é primo\n"
          ]
        }
      ]
    },
    {
      "cell_type": "markdown",
      "source": [
        "## Solução para saber todos os números primos até n"
      ],
      "metadata": {
        "id": "7Viw1Xc8D8mT"
      }
    },
    {
      "cell_type": "code",
      "source": [
        "#Caso voce queira armazenar em um vetor os números primos até n:\n",
        "\n",
        "n= int(input(\"Informe um número inteiro: \"))\n",
        "\n",
        "primos=[]\n",
        "\n",
        "for j in range (2,n+1):\n",
        "\n",
        "  boolean_primo = True\n",
        "  i=2\n",
        "\n",
        "  while boolean_primo and i <= j/2:\n",
        "    if(j%i == 0):\n",
        "      boolean_primo = False\n",
        "    i+=1\n",
        "\n",
        "  if boolean_primo:\n",
        "    primos.append(j)\n",
        "\n",
        "# Exibe os números primos encontrados\n",
        "print(f\"Números primos até {n}: {primos}\")"
      ],
      "metadata": {
        "colab": {
          "base_uri": "https://localhost:8080/"
        },
        "id": "Ut0y-3jo5TgW",
        "outputId": "7b1ad24a-6777-4b61-e883-3f578161220d"
      },
      "execution_count": 52,
      "outputs": [
        {
          "output_type": "stream",
          "name": "stdout",
          "text": [
            "Informe um número inteiro: 11\n",
            "Números primos até 11: [3, 5, 7, 11]\n"
          ]
        }
      ]
    },
    {
      "cell_type": "markdown",
      "source": [
        "## solução para saber todos os números primos ate n, porem utilizando função"
      ],
      "metadata": {
        "id": "TGUI8zAoEESK"
      }
    },
    {
      "cell_type": "code",
      "source": [
        "\n",
        "#Função para encontrar um número primo\n",
        "\n",
        "def eh_primo(n):\n",
        "  boolean_primo = True\n",
        "  i=2\n",
        "\n",
        "  while boolean_primo and i <= n/2:\n",
        "    if(n%i == 0):\n",
        "      boolean_primo = False\n",
        "    i+=1\n",
        "\n",
        "  return boolean_primo\n",
        "\n",
        "\n",
        "# Encontrando todos os números primos até um número n\n",
        "\n",
        "n=int(input(\"Informe um número inteiro: \"))\n",
        "\n",
        "lista_primos = []\n",
        "\n",
        "for j in range(2, n+1):\n",
        "\n",
        "  if eh_primo(j):\n",
        "    lista_primos.append(j)\n",
        "\n",
        "print(f\"Os números primos até {n} sao: {lista_primos}\")\n",
        "\n",
        ""
      ],
      "metadata": {
        "colab": {
          "base_uri": "https://localhost:8080/"
        },
        "id": "ZqCUJonPAN49",
        "outputId": "a9ad25fc-8caa-4c86-c501-c6e80a31a0ed"
      },
      "execution_count": 54,
      "outputs": [
        {
          "output_type": "stream",
          "name": "stdout",
          "text": [
            "Informe um número inteiro: 29\n",
            "Os números primos até 29 sao: [2, 3, 5, 7, 11, 13, 17, 19, 23, 29]\n"
          ]
        }
      ]
    },
    {
      "cell_type": "markdown",
      "source": [
        "# Probelma 4: Tabuada\n",
        "\n",
        "Escreva um programa que gere a tabuada de um número inteiro escolhido pelo usuário, de 1 a 10."
      ],
      "metadata": {
        "id": "JTYoKepIEaHT"
      }
    },
    {
      "cell_type": "code",
      "source": [
        "n=int(input(\"Digite um número : \"))"
      ],
      "metadata": {
        "colab": {
          "base_uri": "https://localhost:8080/"
        },
        "id": "18TSpDRfFTQU",
        "outputId": "34cbf81e-7f81-4bcb-fea5-0cf56e50a0c9"
      },
      "execution_count": 55,
      "outputs": [
        {
          "name": "stdout",
          "output_type": "stream",
          "text": [
            "Digite um número : 17\n"
          ]
        }
      ]
    },
    {
      "cell_type": "code",
      "source": [
        "for i in range (1, 10):\n",
        "  multiplicacao= i*n\n",
        "  print(f\"{i} X {n} = {multiplicacao}\")"
      ],
      "metadata": {
        "colab": {
          "base_uri": "https://localhost:8080/"
        },
        "id": "92FDN_S1GEgk",
        "outputId": "29ead85c-d08e-4af8-8639-876807c468bd"
      },
      "execution_count": 56,
      "outputs": [
        {
          "output_type": "stream",
          "name": "stdout",
          "text": [
            "1 X 17 = 17\n",
            "2 X 17 = 34\n",
            "3 X 17 = 51\n",
            "4 X 17 = 68\n",
            "5 X 17 = 85\n",
            "6 X 17 = 102\n",
            "7 X 17 = 119\n",
            "8 X 17 = 136\n",
            "9 X 17 = 153\n"
          ]
        }
      ]
    },
    {
      "cell_type": "markdown",
      "source": [],
      "metadata": {
        "id": "R9txbCHgEYCD"
      }
    }
  ]
}